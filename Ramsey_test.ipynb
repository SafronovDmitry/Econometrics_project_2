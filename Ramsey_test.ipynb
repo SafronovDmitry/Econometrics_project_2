{
  "nbformat": 4,
  "nbformat_minor": 0,
  "metadata": {
    "colab": {
      "provenance": []
    },
    "kernelspec": {
      "name": "python3",
      "display_name": "Python 3"
    },
    "language_info": {
      "name": "python"
    }
  },
  "cells": [
    {
      "cell_type": "code",
      "execution_count": 2,
      "metadata": {
        "id": "4gzRLBqcDGbU"
      },
      "outputs": [],
      "source": [
        "import pandas as pd\n",
        "import numpy as np\n",
        "import statsmodels.api as sm\n",
        "from statsmodels.regression.linear_model import GLS, OLS\n",
        "from scipy import stats"
      ]
    },
    {
      "cell_type": "code",
      "source": [
        "df_e = pd.read_csv('final_encoded_with_distance.csv')"
      ],
      "metadata": {
        "id": "9Fc50UUI4Iyj"
      },
      "execution_count": 12,
      "outputs": []
    },
    {
      "cell_type": "code",
      "source": [
        "df_e = df_e.drop(columns=['latitude'])\n",
        "df_e = df_e.drop(columns=['longitude'])"
      ],
      "metadata": {
        "id": "6iF_q27J4K_a"
      },
      "execution_count": 13,
      "outputs": []
    },
    {
      "cell_type": "code",
      "source": [
        "df_e['log_distance'] = np.log(df_e['distance'])"
      ],
      "metadata": {
        "id": "duw-Yk3Zdpjv"
      },
      "execution_count": 14,
      "outputs": []
    },
    {
      "cell_type": "code",
      "source": [
        "df_e = df_e.drop(columns=['distance'])"
      ],
      "metadata": {
        "id": "dLOgVqsldnJQ"
      },
      "execution_count": 15,
      "outputs": []
    },
    {
      "cell_type": "code",
      "source": [
        "area_dummy_columns = [col for col in df_e.columns if col.startswith('district_')]\n",
        "\n",
        "df_e = df_e.drop(columns=area_dummy_columns)"
      ],
      "metadata": {
        "id": "7aGl8vPs4MAS"
      },
      "execution_count": 16,
      "outputs": []
    },
    {
      "cell_type": "code",
      "source": [
        "area_dummy_columns = [col for col in df_e.columns if col.startswith('area_')]\n",
        "\n",
        "df_e = df_e.drop(columns=area_dummy_columns)"
      ],
      "metadata": {
        "id": "aYh4VzVx4MyY"
      },
      "execution_count": 17,
      "outputs": []
    },
    {
      "cell_type": "code",
      "source": [
        "def ramsey_reset_test_wls(model, degree=3):\n",
        "    \"\"\"\n",
        "    Тест Рамсея (RESET) для WLS модели\n",
        "    \"\"\"\n",
        "    try:\n",
        "        y_pred = model.predict()\n",
        "        X = model.model.exog.copy()\n",
        "\n",
        "        # Добавляем степени предсказаний\n",
        "        for i in range(2, degree + 1):\n",
        "            X = np.column_stack((X, y_pred**i))\n",
        "\n",
        "        # Веса из исходной модели\n",
        "        weights = model.model.weights\n",
        "\n",
        "        # Оцениваем вспомогательную модель\n",
        "        aux_model = sm.WLS(model.model.endog, X, weights=weights).fit()  # Изменено на WLS\n",
        "\n",
        "        # Вычисляем F-статистику\n",
        "        q = degree - 1\n",
        "        rss_r = model.ssr\n",
        "        rss_ur = aux_model.ssr\n",
        "        df_num = q\n",
        "        df_den = aux_model.df_resid\n",
        "\n",
        "        f_stat = ((rss_r - rss_ur)/df_num) / (rss_ur/df_den)\n",
        "        p_value = 1 - stats.f.cdf(f_stat, df_num, df_den)\n",
        "\n",
        "        return {\n",
        "            'f_statistic': f_stat,\n",
        "            'p_value': p_value,\n",
        "            'df_num': df_num,\n",
        "            'df_den': df_den\n",
        "        }\n",
        "    except Exception as e:\n",
        "        print(f\"Ошибка теста: {str(e)}\")\n",
        "        return None\n",
        "\n",
        "# Загрузка данных\n",
        "X = df_e.drop(\"price\", axis=1)\n",
        "y = np.log(df_e[\"price\"])\n",
        "\n",
        "# Шаг 1: Оценка OLS для исходного y\n",
        "ols_model = sm.OLS(y, X).fit()\n",
        "print(\"\\nOLS модель для исходного y:\")\n",
        "print(ols_model.summary())\n",
        "\n",
        "# Шаг 2: Расчет весов\n",
        "weights = 1 / (ols_model.resid ** 2 + 1e-6)\n",
        "\n",
        "# Шаг 3: Оценка WLS моделей\n",
        "wls_model = sm.WLS(y, X, weights=weights).fit()  # Изменено на WLS\n",
        "\n",
        "\n",
        "# Проведение теста Рамсея\n",
        "print(\"\\nТест Рамсея для WLS (исходный y):\")\n",
        "test_result = ramsey_reset_test_wls(wls_model, degree=3)  # Обновлен вызов функции\n",
        "if test_result:\n",
        "    print(f\"F: {test_result['f_statistic']:.4f}, p-value: {test_result['p_value']:.4f}\")"
      ],
      "metadata": {
        "id": "vW5sqqPBDZ0f",
        "colab": {
          "base_uri": "https://localhost:8080/"
        },
        "outputId": "35f84eff-5111-43a9-c777-eee2e3051b46"
      },
      "execution_count": 18,
      "outputs": [
        {
          "output_type": "stream",
          "name": "stdout",
          "text": [
            "\n",
            "OLS модель для исходного y:\n",
            "                            OLS Regression Results                            \n",
            "==============================================================================\n",
            "Dep. Variable:                  price   R-squared:                       0.609\n",
            "Model:                            OLS   Adj. R-squared:                  0.602\n",
            "Method:                 Least Squares   F-statistic:                     92.18\n",
            "Date:                Sat, 12 Apr 2025   Prob (F-statistic):          8.05e-247\n",
            "Time:                        10:06:23   Log-Likelihood:                 6.8087\n",
            "No. Observations:                1326   AIC:                             32.38\n",
            "Df Residuals:                    1303   BIC:                             151.8\n",
            "Df Model:                          22                                         \n",
            "Covariance Type:            nonrobust                                         \n",
            "======================================================================================================================\n",
            "                                                         coef    std err          t      P>|t|      [0.025      0.975]\n",
            "----------------------------------------------------------------------------------------------------------------------\n",
            "metro_time                                            -0.0024      0.001     -1.626      0.104      -0.005       0.000\n",
            "info_total_area                                        0.0120      0.001     17.581      0.000       0.011       0.013\n",
            "floor_ratio                                            0.0271      0.029      0.925      0.355      -0.030       0.085\n",
            "firt_floor                                            -0.0714      0.029     -2.422      0.016      -0.129      -0.014\n",
            "last_floor                                            -0.0317      0.029     -1.085      0.278      -0.089       0.026\n",
            "rooms_1                                                1.0615      0.024     43.355      0.000       1.013       1.110\n",
            "rooms_2                                                1.1178      0.023     48.448      0.000       1.073       1.163\n",
            "rooms_3                                                1.2023      0.033     36.496      0.000       1.138       1.267\n",
            "rooms_4                                                1.3511      0.085     15.825      0.000       1.184       1.519\n",
            "rooms_студия                                           1.1420      0.031     37.032      0.000       1.082       1.203\n",
            "rent_jkh_включена (без счётчиков)                      2.9388      0.024    124.259      0.000       2.892       2.985\n",
            "rent_jkh_включена (счётчики включены)                  2.9359      0.024    123.467      0.000       2.889       2.983\n",
            "rent_prepayment_1 месяц                                1.8565      0.051     36.546      0.000       1.757       1.956\n",
            "rent_prepayment_2 месяца                               1.8776      0.054     34.890      0.000       1.772       1.983\n",
            "rent_prepayment_3 месяца                               2.1406      0.126     16.922      0.000       1.892       2.389\n",
            "rent_term_несколько месяцев                            2.8916      0.024    118.074      0.000       2.844       2.940\n",
            "rent_term_от года                                      2.9831      0.024    122.815      0.000       2.935       3.031\n",
            "rent_living_conditions_можно с детьми                  1.4807      0.019     78.517      0.000       1.444       1.518\n",
            "rent_living_conditions_можно с детьми и животными      1.4545      0.020     71.513      0.000       1.415       1.494\n",
            "rent_living_conditions_можно с животными               1.4692      0.037     39.892      0.000       1.397       1.541\n",
            "rent_living_conditions_ни с детьми, ни с животными     1.4703      0.017     84.603      0.000       1.436       1.504\n",
            "year_built_interval_1890-1917                          1.0343      0.147      7.031      0.000       0.746       1.323\n",
            "year_built_interval_1917-1945                          0.8334      0.077     10.845      0.000       0.683       0.984\n",
            "year_built_interval_1945-1970                          0.9300      0.034     27.242      0.000       0.863       0.997\n",
            "year_built_interval_1970-1990                          0.9751      0.035     27.750      0.000       0.906       1.044\n",
            "year_built_interval_1991-2025                          1.0839      0.033     32.985      0.000       1.019       1.148\n",
            "year_built_interval_не попал                           1.0179      0.033     31.202      0.000       0.954       1.082\n",
            "log_distance                                          -0.3085      0.013    -24.311      0.000      -0.333      -0.284\n",
            "==============================================================================\n",
            "Omnibus:                      163.239   Durbin-Watson:                   2.068\n",
            "Prob(Omnibus):                  0.000   Jarque-Bera (JB):             1186.156\n",
            "Skew:                          -0.306   Prob(JB):                    2.69e-258\n",
            "Kurtosis:                       7.593   Cond. No.                     1.25e+16\n",
            "==============================================================================\n",
            "\n",
            "Notes:\n",
            "[1] Standard Errors assume that the covariance matrix of the errors is correctly specified.\n",
            "[2] The smallest eigenvalue is 1.68e-26. This might indicate that there are\n",
            "strong multicollinearity problems or that the design matrix is singular.\n",
            "\n",
            "Тест Рамсея для WLS (исходный y):\n",
            "F: 0.1398, p-value: 0.8695\n"
          ]
        }
      ]
    },
    {
      "cell_type": "code",
      "source": [
        "df_e.to_csv('FINAL_data.csv', index=False)\n",
        "print(\"Файл сохранён как FINAL_data.csv\")"
      ],
      "metadata": {
        "colab": {
          "base_uri": "https://localhost:8080/"
        },
        "id": "hb_3upqdes9f",
        "outputId": "e208e96c-2049-4596-8bfa-acea6f675105"
      },
      "execution_count": 20,
      "outputs": [
        {
          "output_type": "stream",
          "name": "stdout",
          "text": [
            "Файл сохранён как FINAL_data.csv\n"
          ]
        }
      ]
    }
  ]
}