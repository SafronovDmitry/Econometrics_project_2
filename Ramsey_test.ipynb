{
  "nbformat": 4,
  "nbformat_minor": 0,
  "metadata": {
    "colab": {
      "provenance": []
    },
    "kernelspec": {
      "name": "python3",
      "display_name": "Python 3"
    },
    "language_info": {
      "name": "python"
    }
  },
  "cells": [
    {
      "cell_type": "code",
      "execution_count": 2,
      "metadata": {
        "id": "4gzRLBqcDGbU"
      },
      "outputs": [],
      "source": [
        "import pandas as pd\n",
        "import numpy as np\n",
        "import statsmodels.api as sm\n",
        "from statsmodels.regression.linear_model import GLS, OLS\n",
        "from scipy import stats"
      ]
    },
    {
      "cell_type": "code",
      "source": [
        "df_e = pd.read_csv('final_encoded_with_distance.csv')"
      ],
      "metadata": {
        "id": "9Fc50UUI4Iyj"
      },
      "execution_count": 3,
      "outputs": []
    },
    {
      "cell_type": "code",
      "source": [
        "df_e = df_e.drop(columns=['latitude'])\n",
        "df_e = df_e.drop(columns=['longitude'])"
      ],
      "metadata": {
        "id": "6iF_q27J4K_a"
      },
      "execution_count": 4,
      "outputs": []
    },
    {
      "cell_type": "code",
      "source": [
        "area_dummy_columns = [col for col in df_e.columns if col.startswith('district_')]\n",
        "\n",
        "df_e = df_e.drop(columns=area_dummy_columns)"
      ],
      "metadata": {
        "id": "7aGl8vPs4MAS"
      },
      "execution_count": 5,
      "outputs": []
    },
    {
      "cell_type": "code",
      "source": [
        "area_dummy_columns = [col for col in df_e.columns if col.startswith('area_')]\n",
        "\n",
        "df_e = df_e.drop(columns=area_dummy_columns)"
      ],
      "metadata": {
        "id": "aYh4VzVx4MyY"
      },
      "execution_count": 6,
      "outputs": []
    },
    {
      "cell_type": "code",
      "source": [
        "def ramsey_reset_test_wls(model, degree=3):\n",
        "    \"\"\"\n",
        "    Тест Рамсея (RESET) для WLS модели\n",
        "    \"\"\"\n",
        "    try:\n",
        "        y_pred = model.predict()\n",
        "        X = model.model.exog.copy()\n",
        "\n",
        "        # Добавляем степени предсказаний\n",
        "        for i in range(2, degree + 1):\n",
        "            X = np.column_stack((X, y_pred**i))\n",
        "\n",
        "        # Веса из исходной модели\n",
        "        weights = model.model.weights\n",
        "\n",
        "        # Оцениваем вспомогательную модель\n",
        "        aux_model = sm.WLS(model.model.endog, X, weights=weights).fit()  # Изменено на WLS\n",
        "\n",
        "        # Вычисляем F-статистику\n",
        "        q = degree - 1\n",
        "        rss_r = model.ssr\n",
        "        rss_ur = aux_model.ssr\n",
        "        df_num = q\n",
        "        df_den = aux_model.df_resid\n",
        "\n",
        "        f_stat = ((rss_r - rss_ur)/df_num) / (rss_ur/df_den)\n",
        "        p_value = 1 - stats.f.cdf(f_stat, df_num, df_den)\n",
        "\n",
        "        return {\n",
        "            'f_statistic': f_stat,\n",
        "            'p_value': p_value,\n",
        "            'df_num': df_num,\n",
        "            'df_den': df_den\n",
        "        }\n",
        "    except Exception as e:\n",
        "        print(f\"Ошибка теста: {str(e)}\")\n",
        "        return None\n",
        "\n",
        "# Загрузка данных\n",
        "X = df_e.drop(\"price\", axis=1)\n",
        "y = np.log(df_e[\"price\"])\n",
        "\n",
        "# Шаг 1: Оценка OLS для исходного y\n",
        "ols_model = sm.OLS(y, X).fit()\n",
        "print(\"\\nOLS модель для исходного y:\")\n",
        "print(ols_model.summary())\n",
        "\n",
        "# Шаг 2: Расчет весов\n",
        "weights = 1 / (ols_model.resid ** 2 + 1e-6)\n",
        "\n",
        "# Шаг 3: Оценка WLS моделей\n",
        "wls_model = sm.WLS(y, X, weights=weights).fit()  # Изменено на WLS\n",
        "\n",
        "\n",
        "# Проведение теста Рамсея\n",
        "print(\"\\nТест Рамсея для WLS (исходный y):\")\n",
        "test_result = ramsey_reset_test_wls(wls_model, degree=3)  # Обновлен вызов функции\n",
        "if test_result:\n",
        "    print(f\"F: {test_result['f_statistic']:.4f}, p-value: {test_result['p_value']:.4f}\")"
      ],
      "metadata": {
        "id": "vW5sqqPBDZ0f",
        "colab": {
          "base_uri": "https://localhost:8080/"
        },
        "outputId": "a646736e-55b1-4273-88cf-fe184cf596c2"
      },
      "execution_count": 8,
      "outputs": [
        {
          "output_type": "stream",
          "name": "stdout",
          "text": [
            "\n",
            "OLS модель для исходного y:\n",
            "                            OLS Regression Results                            \n",
            "==============================================================================\n",
            "Dep. Variable:                  price   R-squared:                       0.576\n",
            "Model:                            OLS   Adj. R-squared:                  0.569\n",
            "Method:                 Least Squares   F-statistic:                     80.35\n",
            "Date:                Sat, 12 Apr 2025   Prob (F-statistic):          4.67e-224\n",
            "Time:                        09:38:16   Log-Likelihood:                -47.099\n",
            "No. Observations:                1326   AIC:                             140.2\n",
            "Df Residuals:                    1303   BIC:                             259.6\n",
            "Df Model:                          22                                         \n",
            "Covariance Type:            nonrobust                                         \n",
            "======================================================================================================================\n",
            "                                                         coef    std err          t      P>|t|      [0.025      0.975]\n",
            "----------------------------------------------------------------------------------------------------------------------\n",
            "metro_time                                             0.0005      0.002      0.351      0.726      -0.002       0.004\n",
            "info_total_area                                        0.0129      0.001     18.187      0.000       0.012       0.014\n",
            "floor_ratio                                            0.0217      0.031      0.710      0.478      -0.038       0.082\n",
            "firt_floor                                            -0.0561      0.031     -1.828      0.068      -0.116       0.004\n",
            "last_floor                                            -0.0317      0.030     -1.043      0.297      -0.091       0.028\n",
            "rooms_1                                                1.0084      0.025     39.962      0.000       0.959       1.058\n",
            "rooms_2                                                1.0598      0.024     44.717      0.000       1.013       1.106\n",
            "rooms_3                                                1.1402      0.034     33.401      0.000       1.073       1.207\n",
            "rooms_4                                                1.2589      0.089     14.168      0.000       1.085       1.433\n",
            "rooms_студия                                           1.1157      0.032     34.759      0.000       1.053       1.179\n",
            "rent_jkh_включена (без счётчиков)                      2.7865      0.023    120.387      0.000       2.741       2.832\n",
            "rent_jkh_включена (счётчики включены)                  2.7965      0.023    119.115      0.000       2.750       2.843\n",
            "rent_prepayment_1 месяц                                1.7704      0.053     33.588      0.000       1.667       1.874\n",
            "rent_prepayment_2 месяца                               1.8088      0.056     32.376      0.000       1.699       1.918\n",
            "rent_prepayment_3 месяца                               2.0038      0.132     15.232      0.000       1.746       2.262\n",
            "rent_term_несколько месяцев                            2.7481      0.024    113.501      0.000       2.701       2.796\n",
            "rent_term_от года                                      2.8348      0.024    118.614      0.000       2.788       2.882\n",
            "rent_living_conditions_можно с детьми                  1.3995      0.019     73.647      0.000       1.362       1.437\n",
            "rent_living_conditions_можно с детьми и животными      1.3731      0.021     66.151      0.000       1.332       1.414\n",
            "rent_living_conditions_можно с животными               1.4178      0.038     37.079      0.000       1.343       1.493\n",
            "rent_living_conditions_ни с детьми, ни с животными     1.3926      0.018     78.911      0.000       1.358       1.427\n",
            "year_built_interval_1890-1917                          1.0173      0.153      6.638      0.000       0.717       1.318\n",
            "year_built_interval_1917-1945                          0.8723      0.080     10.907      0.000       0.715       1.029\n",
            "year_built_interval_1945-1970                          0.8660      0.035     24.413      0.000       0.796       0.936\n",
            "year_built_interval_1970-1990                          0.8899      0.036     24.644      0.000       0.819       0.961\n",
            "year_built_interval_1991-2025                          1.0010      0.034     29.779      0.000       0.935       1.067\n",
            "year_built_interval_не попал                           0.9364      0.034     27.887      0.000       0.871       1.002\n",
            "distance                                              -0.0171      0.001    -21.050      0.000      -0.019      -0.016\n",
            "==============================================================================\n",
            "Omnibus:                      129.883   Durbin-Watson:                   2.086\n",
            "Prob(Omnibus):                  0.000   Jarque-Bera (JB):              916.065\n",
            "Skew:                           0.028   Prob(JB):                    1.20e-199\n",
            "Kurtosis:                       7.072   Cond. No.                     1.23e+16\n",
            "==============================================================================\n",
            "\n",
            "Notes:\n",
            "[1] Standard Errors assume that the covariance matrix of the errors is correctly specified.\n",
            "[2] The smallest eigenvalue is 1.9e-26. This might indicate that there are\n",
            "strong multicollinearity problems or that the design matrix is singular.\n",
            "\n",
            "WLS модель для исходного y:\n",
            "                            WLS Regression Results                            \n",
            "==============================================================================\n",
            "Dep. Variable:                  price   R-squared:                       0.994\n",
            "Model:                            WLS   Adj. R-squared:                  0.994\n",
            "Method:                 Least Squares   F-statistic:                 1.002e+04\n",
            "Date:                Sat, 12 Apr 2025   Prob (F-statistic):               0.00\n",
            "Time:                        09:38:16   Log-Likelihood:                 1159.4\n",
            "No. Observations:                1326   AIC:                            -2273.\n",
            "Df Residuals:                    1303   BIC:                            -2153.\n",
            "Df Model:                          22                                         \n",
            "Covariance Type:            nonrobust                                         \n",
            "======================================================================================================================\n",
            "                                                         coef    std err          t      P>|t|      [0.025      0.975]\n",
            "----------------------------------------------------------------------------------------------------------------------\n",
            "metro_time                                             0.0006   9.86e-05      5.821      0.000       0.000       0.001\n",
            "info_total_area                                        0.0129   7.05e-05    182.265      0.000       0.013       0.013\n",
            "floor_ratio                                            0.0221      0.001     15.296      0.000       0.019       0.025\n",
            "firt_floor                                            -0.0563      0.001    -41.501      0.000      -0.059      -0.054\n",
            "last_floor                                            -0.0321      0.001    -23.299      0.000      -0.035      -0.029\n",
            "rooms_1                                                0.9998      0.008    127.129      0.000       0.984       1.015\n",
            "rooms_2                                                1.0516      0.008    134.317      0.000       1.036       1.067\n",
            "rooms_3                                                1.1386      0.008    139.799      0.000       1.123       1.155\n",
            "rooms_4                                                1.2968      0.027     47.310      0.000       1.243       1.351\n",
            "rooms_студия                                           1.1059      0.008    138.303      0.000       1.090       1.122\n",
            "rent_jkh_включена (без счётчиков)                      2.7917      0.012    225.300      0.000       2.767       2.816\n",
            "rent_jkh_включена (счётчики включены)                  2.8010      0.012    226.582      0.000       2.777       2.825\n",
            "rent_prepayment_1 месяц                                1.7746      0.038     46.179      0.000       1.699       1.850\n",
            "rent_prepayment_2 месяца                               1.8111      0.038     47.109      0.000       1.736       1.887\n",
            "rent_prepayment_3 месяца                               2.0070      0.100     19.979      0.000       1.810       2.204\n",
            "rent_term_несколько месяцев                            2.7534      0.012    222.545      0.000       2.729       2.778\n",
            "rent_term_от года                                      2.8393      0.012    229.149      0.000       2.815       2.864\n",
            "rent_living_conditions_можно с детьми                  1.4017      0.006    224.369      0.000       1.389       1.414\n",
            "rent_living_conditions_можно с детьми и животными      1.3759      0.006    219.517      0.000       1.364       1.388\n",
            "rent_living_conditions_можно с животными               1.4200      0.007    213.363      0.000       1.407       1.433\n",
            "rent_living_conditions_ни с детьми, ни с животными     1.3952      0.006    223.917      0.000       1.383       1.407\n",
            "year_built_interval_1890-1917                          1.0096      0.043     23.439      0.000       0.925       1.094\n",
            "year_built_interval_1917-1945                          0.9175      0.046     20.081      0.000       0.828       1.007\n",
            "year_built_interval_1945-1970                          0.8572      0.012     72.220      0.000       0.834       0.881\n",
            "year_built_interval_1970-1990                          0.8844      0.012     74.418      0.000       0.861       0.908\n",
            "year_built_interval_1991-2025                          0.9944      0.012     83.815      0.000       0.971       1.018\n",
            "year_built_interval_не попал                           0.9296      0.012     78.411      0.000       0.906       0.953\n",
            "distance                                              -0.0171    5.1e-05   -335.376      0.000      -0.017      -0.017\n",
            "==============================================================================\n",
            "Omnibus:                     4966.540   Durbin-Watson:                   1.892\n",
            "Prob(Omnibus):                  0.000   Jarque-Bera (JB):              214.420\n",
            "Skew:                           0.045   Prob(JB):                     2.75e-47\n",
            "Kurtosis:                       1.032   Cond. No.                     1.29e+16\n",
            "==============================================================================\n",
            "\n",
            "Notes:\n",
            "[1] Standard Errors assume that the covariance matrix of the errors is correctly specified.\n",
            "[2] The smallest eigenvalue is 1.27e-22. This might indicate that there are\n",
            "strong multicollinearity problems or that the design matrix is singular.\n",
            "\n",
            "Тест Рамсея для WLS (исходный y):\n",
            "F: 0.8333, p-value: 0.4348\n"
          ]
        }
      ]
    }
  ]
}