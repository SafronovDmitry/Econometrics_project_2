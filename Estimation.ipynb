{
  "cells": [
    {
      "cell_type": "code",
      "execution_count": 129,
      "metadata": {
        "id": "vvDID9E3b7Il"
      },
      "outputs": [],
      "source": [
        "import pandas as pd\n",
        "import numpy as np\n",
        "from statsmodels.stats.outliers_influence import variance_inflation_factor\n",
        "from statsmodels.tools.tools import add_constant\n",
        "import statsmodels.api as sm\n",
        "from sklearn.linear_model import LinearRegression\n",
        "from statsmodels.formula.api import ols\n",
        "import seaborn as sns\n",
        "import matplotlib.pyplot as plt\n",
        "from sklearn.metrics import r2_score"
      ]
    },
    {
      "cell_type": "code",
      "execution_count": 130,
      "metadata": {
        "id": "uvvM6jOrb-eY"
      },
      "outputs": [],
      "source": [
        "df = pd.read_csv('Data/FINAL_data-2.csv')"
      ]
    },
    {
      "cell_type": "code",
      "execution_count": 131,
      "metadata": {
        "id": "pbvFr9-YcmYw"
      },
      "outputs": [],
      "source": [
        "df = df.drop(columns=['rooms_студия'])\n",
        "df = df.drop(columns=['rent_jkh_включена (без счётчиков)'])\n",
        "df = df.drop(columns=['rent_prepayment_1 месяц'])\n",
        "df = df.drop(columns=['rent_term_несколько месяцев'])\n",
        "df = df.drop(columns=['rent_living_conditions_ни с детьми, ни с животными'])\n",
        "df = df.drop(columns=['year_built_interval_не попал'])"
      ]
    },
    {
      "cell_type": "code",
      "execution_count": 132,
      "metadata": {
        "id": "9wOooqglcoMI"
      },
      "outputs": [],
      "source": [
        "y = np.log(df['price'])\n",
        "X = df.drop(\"price\", axis=1)"
      ]
    },
    {
      "cell_type": "code",
      "execution_count": 74,
      "metadata": {
        "id": "ySH21atvczq5"
      },
      "outputs": [],
      "source": [
        "X_with_const = add_constant(X)\n",
        "\n",
        "ols_model = sm.OLS(y, X_with_const).fit()\n",
        "\n",
        "weights = 1 / (ols_model.resid ** 2 + 1e-6)\n",
        "\n",
        "wls_model = sm.WLS(y, X_with_const, weights=weights).fit()"
      ]
    },
    {
      "cell_type": "code",
      "execution_count": 75,
      "metadata": {
        "colab": {
          "base_uri": "https://localhost:8080/"
        },
        "id": "Q6CHVnpbc4FB",
        "outputId": "603d68b2-f797-453f-ca19-21e7c6d06853"
      },
      "outputs": [
        {
          "name": "stdout",
          "output_type": "stream",
          "text": [
            "                            WLS Regression Results                            \n",
            "==============================================================================\n",
            "Dep. Variable:                  price   R-squared:                       0.986\n",
            "Model:                            WLS   Adj. R-squared:                  0.986\n",
            "Method:                 Least Squares   F-statistic:                     4180.\n",
            "Date:                Fri, 18 Apr 2025   Prob (F-statistic):               0.00\n",
            "Time:                        16:53:13   Log-Likelihood:                 1066.2\n",
            "No. Observations:                1326   AIC:                            -2086.\n",
            "Df Residuals:                    1303   BIC:                            -1967.\n",
            "Df Model:                          22                                         \n",
            "Covariance Type:            nonrobust                                         \n",
            "=====================================================================================================================\n",
            "                                                        coef    std err          t      P>|t|      [0.025      0.975]\n",
            "---------------------------------------------------------------------------------------------------------------------\n",
            "const                                                11.3212      0.006   2033.950      0.000      11.310      11.332\n",
            "metro_time                                           -0.0027      0.000    -13.744      0.000      -0.003      -0.002\n",
            "info_total_area                                       0.0119      0.000    103.448      0.000       0.012       0.012\n",
            "floor_ratio                                           0.0312      0.003     12.205      0.000       0.026       0.036\n",
            "firt_floor                                           -0.0715      0.002    -28.760      0.000      -0.076      -0.067\n",
            "last_floor                                           -0.0380      0.005     -7.782      0.000      -0.048      -0.028\n",
            "rooms_1                                              -0.0774      0.003    -30.627      0.000      -0.082      -0.072\n",
            "rooms_2                                              -0.0209      0.003     -6.200      0.000      -0.028      -0.014\n",
            "rooms_3                                               0.0680      0.008      9.048      0.000       0.053       0.083\n",
            "rooms_4                                               0.2550      0.020     12.546      0.000       0.215       0.295\n",
            "rent_jkh_включена (счётчики включены)                 0.0011      0.002      0.631      0.528      -0.002       0.005\n",
            "rent_prepayment_2 месяца                              0.0208      0.004      5.488      0.000       0.013       0.028\n",
            "rent_prepayment_3 месяца                              0.2790      0.124      2.248      0.025       0.036       0.522\n",
            "rent_term_от года                                     0.0864      0.002     37.509      0.000       0.082       0.091\n",
            "rent_living_conditions_можно с детьми                 0.0082      0.002      4.410      0.000       0.005       0.012\n",
            "rent_living_conditions_можно с детьми и животными    -0.0196      0.003     -6.679      0.000      -0.025      -0.014\n",
            "rent_living_conditions_можно с животными             -0.0026      0.005     -0.488      0.626      -0.013       0.008\n",
            "year_built_interval_1890-1917                         0.0155      0.067      0.231      0.817      -0.116       0.147\n",
            "year_built_interval_1917-1945                        -0.1561      0.041     -3.827      0.000      -0.236      -0.076\n",
            "year_built_interval_1945-1970                        -0.0854      0.003    -31.663      0.000      -0.091      -0.080\n",
            "year_built_interval_1970-1990                        -0.0415      0.003    -15.380      0.000      -0.047      -0.036\n",
            "year_built_interval_1991-2025                         0.0644      0.002     39.689      0.000       0.061       0.068\n",
            "log_distance                                         -0.3067      0.002   -142.003      0.000      -0.311      -0.302\n",
            "==============================================================================\n",
            "Omnibus:                     5028.581   Durbin-Watson:                   1.946\n",
            "Prob(Omnibus):                  0.000   Jarque-Bera (JB):              209.670\n",
            "Skew:                          -0.002   Prob(JB):                     2.96e-46\n",
            "Kurtosis:                       1.052   Cond. No.                     8.58e+03\n",
            "==============================================================================\n",
            "\n",
            "Notes:\n",
            "[1] Standard Errors assume that the covariance matrix of the errors is correctly specified.\n",
            "[2] The condition number is large, 8.58e+03. This might indicate that there are\n",
            "strong multicollinearity or other numerical problems.\n"
          ]
        }
      ],
      "source": [
        "print(wls_model.summary())"
      ]
    },
    {
      "cell_type": "code",
      "execution_count": 76,
      "metadata": {
        "colab": {
          "base_uri": "https://localhost:8080/"
        },
        "id": "-Lb0qG7X8StA",
        "outputId": "e2bbd635-74cd-440e-b5ff-9a8a9e8c7fb1"
      },
      "outputs": [
        {
          "name": "stdout",
          "output_type": "stream",
          "text": [
            "F-test for group significance:\n",
            "<F test: F=0.004700273554553871, p=0.9453515395286904, df_denom=1.3e+03, df_num=1>\n"
          ]
        }
      ],
      "source": [
        "X_with_const = add_constant(X)\n",
        "\n",
        "ols_model = sm.OLS(y, X_with_const).fit()\n",
        "\n",
        "test_vars = ['year_built_interval_1890-1917', 'rent_living_conditions_можно с животными', 'rent_jkh_включена (счётчики включены)']\n",
        "test_indices = [X_with_const.columns.get_loc(var) for var in test_vars]\n",
        "\n",
        "f_test_matrix = [1 if i in test_indices else 0 for i in range(len(ols_model.params))]\n",
        "\n",
        "f_test = ols_model.f_test(f_test_matrix)\n",
        "\n",
        "print(\"F-test for group significance:\")\n",
        "print(f_test)"
      ]
    },
    {
      "cell_type": "code",
      "execution_count": 56,
      "metadata": {
        "id": "SRTozgmi8w-o"
      },
      "outputs": [],
      "source": [
        "# df = df.drop(columns=['year_built_interval_1890-1917'])\n",
        "# df = df.drop(columns=['rent_living_conditions_можно с животными'])\n",
        "# df = df.drop(columns=['rent_jkh_включена (счётчики включены)'])\n",
        "# df = df.drop(columns=['rent_term_несколько месяцев'])\n",
        "# df = df.drop(columns=['rent_living_conditions_ни с детьми, ни с животными'])\n",
        "# df = df.drop(columns=['year_built_interval_не попал'])"
      ]
    },
    {
      "cell_type": "code",
      "execution_count": 77,
      "metadata": {
        "colab": {
          "base_uri": "https://localhost:8080/"
        },
        "id": "xe4fABUmxUDw",
        "outputId": "20f00e0c-64bd-48e9-ea0e-dcb26fc602b2"
      },
      "outputs": [
        {
          "data": {
            "text/plain": [
              "1.1971086697383893"
            ]
          },
          "execution_count": 77,
          "metadata": {},
          "output_type": "execute_result"
        }
      ],
      "source": [
        "(np.e**(0.0119)-1)*100"
      ]
    },
    {
      "cell_type": "code",
      "execution_count": 78,
      "metadata": {},
      "outputs": [
        {
          "data": {
            "text/html": [
              "<div>\n",
              "<style scoped>\n",
              "    .dataframe tbody tr th:only-of-type {\n",
              "        vertical-align: middle;\n",
              "    }\n",
              "\n",
              "    .dataframe tbody tr th {\n",
              "        vertical-align: top;\n",
              "    }\n",
              "\n",
              "    .dataframe thead th {\n",
              "        text-align: right;\n",
              "    }\n",
              "</style>\n",
              "<table border=\"1\" class=\"dataframe\">\n",
              "  <thead>\n",
              "    <tr style=\"text-align: right;\">\n",
              "      <th></th>\n",
              "      <th>price</th>\n",
              "      <th>metro_time</th>\n",
              "      <th>info_total_area</th>\n",
              "      <th>floor_ratio</th>\n",
              "      <th>firt_floor</th>\n",
              "      <th>last_floor</th>\n",
              "      <th>rooms_1</th>\n",
              "      <th>rooms_2</th>\n",
              "      <th>rooms_3</th>\n",
              "      <th>rooms_4</th>\n",
              "      <th>...</th>\n",
              "      <th>rent_term_от года</th>\n",
              "      <th>rent_living_conditions_можно с детьми</th>\n",
              "      <th>rent_living_conditions_можно с детьми и животными</th>\n",
              "      <th>rent_living_conditions_можно с животными</th>\n",
              "      <th>year_built_interval_1890-1917</th>\n",
              "      <th>year_built_interval_1917-1945</th>\n",
              "      <th>year_built_interval_1945-1970</th>\n",
              "      <th>year_built_interval_1970-1990</th>\n",
              "      <th>year_built_interval_1991-2025</th>\n",
              "      <th>log_distance</th>\n",
              "    </tr>\n",
              "  </thead>\n",
              "  <tbody>\n",
              "    <tr>\n",
              "      <th>0</th>\n",
              "      <td>470000</td>\n",
              "      <td>7.0</td>\n",
              "      <td>73.0</td>\n",
              "      <td>0.683333</td>\n",
              "      <td>0</td>\n",
              "      <td>0</td>\n",
              "      <td>0</td>\n",
              "      <td>1</td>\n",
              "      <td>0</td>\n",
              "      <td>0</td>\n",
              "      <td>...</td>\n",
              "      <td>1</td>\n",
              "      <td>1</td>\n",
              "      <td>0</td>\n",
              "      <td>0</td>\n",
              "      <td>0</td>\n",
              "      <td>0</td>\n",
              "      <td>0</td>\n",
              "      <td>0</td>\n",
              "      <td>1</td>\n",
              "      <td>1.291674</td>\n",
              "    </tr>\n",
              "    <tr>\n",
              "      <th>1</th>\n",
              "      <td>270000</td>\n",
              "      <td>13.0</td>\n",
              "      <td>68.0</td>\n",
              "      <td>0.522727</td>\n",
              "      <td>0</td>\n",
              "      <td>0</td>\n",
              "      <td>0</td>\n",
              "      <td>0</td>\n",
              "      <td>1</td>\n",
              "      <td>0</td>\n",
              "      <td>...</td>\n",
              "      <td>1</td>\n",
              "      <td>1</td>\n",
              "      <td>0</td>\n",
              "      <td>0</td>\n",
              "      <td>0</td>\n",
              "      <td>0</td>\n",
              "      <td>0</td>\n",
              "      <td>0</td>\n",
              "      <td>1</td>\n",
              "      <td>1.291674</td>\n",
              "    </tr>\n",
              "    <tr>\n",
              "      <th>2</th>\n",
              "      <td>30000</td>\n",
              "      <td>9.0</td>\n",
              "      <td>40.0</td>\n",
              "      <td>0.333333</td>\n",
              "      <td>0</td>\n",
              "      <td>0</td>\n",
              "      <td>1</td>\n",
              "      <td>0</td>\n",
              "      <td>0</td>\n",
              "      <td>0</td>\n",
              "      <td>...</td>\n",
              "      <td>1</td>\n",
              "      <td>0</td>\n",
              "      <td>0</td>\n",
              "      <td>0</td>\n",
              "      <td>0</td>\n",
              "      <td>0</td>\n",
              "      <td>0</td>\n",
              "      <td>0</td>\n",
              "      <td>1</td>\n",
              "      <td>2.921454</td>\n",
              "    </tr>\n",
              "    <tr>\n",
              "      <th>3</th>\n",
              "      <td>75000</td>\n",
              "      <td>13.0</td>\n",
              "      <td>60.0</td>\n",
              "      <td>0.375000</td>\n",
              "      <td>0</td>\n",
              "      <td>0</td>\n",
              "      <td>0</td>\n",
              "      <td>1</td>\n",
              "      <td>0</td>\n",
              "      <td>0</td>\n",
              "      <td>...</td>\n",
              "      <td>1</td>\n",
              "      <td>0</td>\n",
              "      <td>0</td>\n",
              "      <td>0</td>\n",
              "      <td>0</td>\n",
              "      <td>0</td>\n",
              "      <td>1</td>\n",
              "      <td>0</td>\n",
              "      <td>0</td>\n",
              "      <td>1.742368</td>\n",
              "    </tr>\n",
              "    <tr>\n",
              "      <th>4</th>\n",
              "      <td>29000</td>\n",
              "      <td>7.0</td>\n",
              "      <td>12.0</td>\n",
              "      <td>0.611111</td>\n",
              "      <td>0</td>\n",
              "      <td>0</td>\n",
              "      <td>0</td>\n",
              "      <td>0</td>\n",
              "      <td>0</td>\n",
              "      <td>0</td>\n",
              "      <td>...</td>\n",
              "      <td>1</td>\n",
              "      <td>0</td>\n",
              "      <td>0</td>\n",
              "      <td>0</td>\n",
              "      <td>0</td>\n",
              "      <td>0</td>\n",
              "      <td>0</td>\n",
              "      <td>0</td>\n",
              "      <td>1</td>\n",
              "      <td>1.466229</td>\n",
              "    </tr>\n",
              "    <tr>\n",
              "      <th>...</th>\n",
              "      <td>...</td>\n",
              "      <td>...</td>\n",
              "      <td>...</td>\n",
              "      <td>...</td>\n",
              "      <td>...</td>\n",
              "      <td>...</td>\n",
              "      <td>...</td>\n",
              "      <td>...</td>\n",
              "      <td>...</td>\n",
              "      <td>...</td>\n",
              "      <td>...</td>\n",
              "      <td>...</td>\n",
              "      <td>...</td>\n",
              "      <td>...</td>\n",
              "      <td>...</td>\n",
              "      <td>...</td>\n",
              "      <td>...</td>\n",
              "      <td>...</td>\n",
              "      <td>...</td>\n",
              "      <td>...</td>\n",
              "      <td>...</td>\n",
              "    </tr>\n",
              "    <tr>\n",
              "      <th>1321</th>\n",
              "      <td>65000</td>\n",
              "      <td>5.0</td>\n",
              "      <td>27.0</td>\n",
              "      <td>0.133333</td>\n",
              "      <td>0</td>\n",
              "      <td>0</td>\n",
              "      <td>0</td>\n",
              "      <td>0</td>\n",
              "      <td>0</td>\n",
              "      <td>0</td>\n",
              "      <td>...</td>\n",
              "      <td>1</td>\n",
              "      <td>0</td>\n",
              "      <td>0</td>\n",
              "      <td>0</td>\n",
              "      <td>0</td>\n",
              "      <td>0</td>\n",
              "      <td>0</td>\n",
              "      <td>0</td>\n",
              "      <td>1</td>\n",
              "      <td>1.776594</td>\n",
              "    </tr>\n",
              "    <tr>\n",
              "      <th>1322</th>\n",
              "      <td>65000</td>\n",
              "      <td>24.0</td>\n",
              "      <td>35.7</td>\n",
              "      <td>0.636364</td>\n",
              "      <td>0</td>\n",
              "      <td>0</td>\n",
              "      <td>1</td>\n",
              "      <td>0</td>\n",
              "      <td>0</td>\n",
              "      <td>0</td>\n",
              "      <td>...</td>\n",
              "      <td>1</td>\n",
              "      <td>0</td>\n",
              "      <td>0</td>\n",
              "      <td>0</td>\n",
              "      <td>0</td>\n",
              "      <td>0</td>\n",
              "      <td>0</td>\n",
              "      <td>0</td>\n",
              "      <td>1</td>\n",
              "      <td>2.771735</td>\n",
              "    </tr>\n",
              "    <tr>\n",
              "      <th>1323</th>\n",
              "      <td>65000</td>\n",
              "      <td>6.0</td>\n",
              "      <td>40.0</td>\n",
              "      <td>0.636364</td>\n",
              "      <td>0</td>\n",
              "      <td>0</td>\n",
              "      <td>1</td>\n",
              "      <td>0</td>\n",
              "      <td>0</td>\n",
              "      <td>0</td>\n",
              "      <td>...</td>\n",
              "      <td>1</td>\n",
              "      <td>1</td>\n",
              "      <td>0</td>\n",
              "      <td>0</td>\n",
              "      <td>0</td>\n",
              "      <td>0</td>\n",
              "      <td>0</td>\n",
              "      <td>0</td>\n",
              "      <td>1</td>\n",
              "      <td>2.823251</td>\n",
              "    </tr>\n",
              "    <tr>\n",
              "      <th>1324</th>\n",
              "      <td>64000</td>\n",
              "      <td>7.0</td>\n",
              "      <td>22.0</td>\n",
              "      <td>0.333333</td>\n",
              "      <td>0</td>\n",
              "      <td>0</td>\n",
              "      <td>0</td>\n",
              "      <td>0</td>\n",
              "      <td>0</td>\n",
              "      <td>0</td>\n",
              "      <td>...</td>\n",
              "      <td>1</td>\n",
              "      <td>0</td>\n",
              "      <td>0</td>\n",
              "      <td>0</td>\n",
              "      <td>0</td>\n",
              "      <td>0</td>\n",
              "      <td>0</td>\n",
              "      <td>0</td>\n",
              "      <td>1</td>\n",
              "      <td>2.585055</td>\n",
              "    </tr>\n",
              "    <tr>\n",
              "      <th>1325</th>\n",
              "      <td>64000</td>\n",
              "      <td>6.0</td>\n",
              "      <td>19.0</td>\n",
              "      <td>0.375000</td>\n",
              "      <td>0</td>\n",
              "      <td>0</td>\n",
              "      <td>0</td>\n",
              "      <td>0</td>\n",
              "      <td>0</td>\n",
              "      <td>0</td>\n",
              "      <td>...</td>\n",
              "      <td>0</td>\n",
              "      <td>0</td>\n",
              "      <td>0</td>\n",
              "      <td>0</td>\n",
              "      <td>0</td>\n",
              "      <td>0</td>\n",
              "      <td>0</td>\n",
              "      <td>0</td>\n",
              "      <td>1</td>\n",
              "      <td>2.001562</td>\n",
              "    </tr>\n",
              "  </tbody>\n",
              "</table>\n",
              "<p>1326 rows × 23 columns</p>\n",
              "</div>"
            ],
            "text/plain": [
              "       price  metro_time  info_total_area  floor_ratio  firt_floor  \\\n",
              "0     470000         7.0             73.0     0.683333           0   \n",
              "1     270000        13.0             68.0     0.522727           0   \n",
              "2      30000         9.0             40.0     0.333333           0   \n",
              "3      75000        13.0             60.0     0.375000           0   \n",
              "4      29000         7.0             12.0     0.611111           0   \n",
              "...      ...         ...              ...          ...         ...   \n",
              "1321   65000         5.0             27.0     0.133333           0   \n",
              "1322   65000        24.0             35.7     0.636364           0   \n",
              "1323   65000         6.0             40.0     0.636364           0   \n",
              "1324   64000         7.0             22.0     0.333333           0   \n",
              "1325   64000         6.0             19.0     0.375000           0   \n",
              "\n",
              "      last_floor  rooms_1  rooms_2  rooms_3  rooms_4  ...  rent_term_от года  \\\n",
              "0              0        0        1        0        0  ...                  1   \n",
              "1              0        0        0        1        0  ...                  1   \n",
              "2              0        1        0        0        0  ...                  1   \n",
              "3              0        0        1        0        0  ...                  1   \n",
              "4              0        0        0        0        0  ...                  1   \n",
              "...          ...      ...      ...      ...      ...  ...                ...   \n",
              "1321           0        0        0        0        0  ...                  1   \n",
              "1322           0        1        0        0        0  ...                  1   \n",
              "1323           0        1        0        0        0  ...                  1   \n",
              "1324           0        0        0        0        0  ...                  1   \n",
              "1325           0        0        0        0        0  ...                  0   \n",
              "\n",
              "      rent_living_conditions_можно с детьми  \\\n",
              "0                                         1   \n",
              "1                                         1   \n",
              "2                                         0   \n",
              "3                                         0   \n",
              "4                                         0   \n",
              "...                                     ...   \n",
              "1321                                      0   \n",
              "1322                                      0   \n",
              "1323                                      1   \n",
              "1324                                      0   \n",
              "1325                                      0   \n",
              "\n",
              "      rent_living_conditions_можно с детьми и животными  \\\n",
              "0                                                     0   \n",
              "1                                                     0   \n",
              "2                                                     0   \n",
              "3                                                     0   \n",
              "4                                                     0   \n",
              "...                                                 ...   \n",
              "1321                                                  0   \n",
              "1322                                                  0   \n",
              "1323                                                  0   \n",
              "1324                                                  0   \n",
              "1325                                                  0   \n",
              "\n",
              "      rent_living_conditions_можно с животными  year_built_interval_1890-1917  \\\n",
              "0                                            0                              0   \n",
              "1                                            0                              0   \n",
              "2                                            0                              0   \n",
              "3                                            0                              0   \n",
              "4                                            0                              0   \n",
              "...                                        ...                            ...   \n",
              "1321                                         0                              0   \n",
              "1322                                         0                              0   \n",
              "1323                                         0                              0   \n",
              "1324                                         0                              0   \n",
              "1325                                         0                              0   \n",
              "\n",
              "      year_built_interval_1917-1945  year_built_interval_1945-1970  \\\n",
              "0                                 0                              0   \n",
              "1                                 0                              0   \n",
              "2                                 0                              0   \n",
              "3                                 0                              1   \n",
              "4                                 0                              0   \n",
              "...                             ...                            ...   \n",
              "1321                              0                              0   \n",
              "1322                              0                              0   \n",
              "1323                              0                              0   \n",
              "1324                              0                              0   \n",
              "1325                              0                              0   \n",
              "\n",
              "      year_built_interval_1970-1990  year_built_interval_1991-2025  \\\n",
              "0                                 0                              1   \n",
              "1                                 0                              1   \n",
              "2                                 0                              1   \n",
              "3                                 0                              0   \n",
              "4                                 0                              1   \n",
              "...                             ...                            ...   \n",
              "1321                              0                              1   \n",
              "1322                              0                              1   \n",
              "1323                              0                              1   \n",
              "1324                              0                              1   \n",
              "1325                              0                              1   \n",
              "\n",
              "      log_distance  \n",
              "0         1.291674  \n",
              "1         1.291674  \n",
              "2         2.921454  \n",
              "3         1.742368  \n",
              "4         1.466229  \n",
              "...            ...  \n",
              "1321      1.776594  \n",
              "1322      2.771735  \n",
              "1323      2.823251  \n",
              "1324      2.585055  \n",
              "1325      2.001562  \n",
              "\n",
              "[1326 rows x 23 columns]"
            ]
          },
          "execution_count": 78,
          "metadata": {},
          "output_type": "execute_result"
        }
      ],
      "source": [
        "df"
      ]
    },
    {
      "cell_type": "code",
      "execution_count": 97,
      "metadata": {},
      "outputs": [],
      "source": [
        "\n",
        "test_df={\n",
        "    'const':1, 'metro_time':1, 'info_total_area':70, 'floor_ratio':1, 'firt_floor':0,\n",
        "       'last_floor':1, 'rooms_1':0, 'rooms_2':1, 'rooms_3':0, 'rooms_4':0,\n",
        "       'rent_jkh_включена (счётчики включены)':1, 'rent_prepayment_2 месяца':0,\n",
        "       'rent_prepayment_3 месяца':1, 'rent_term_от года':0,\n",
        "       'rent_living_conditions_можно с детьми':0,\n",
        "       'rent_living_conditions_можно с детьми и животными':1,\n",
        "       'rent_living_conditions_можно с животными':0,\n",
        "       'year_built_interval_1890-1917':0, 'year_built_interval_1917-1945':0,\n",
        "       'year_built_interval_1945-1970':0, 'year_built_interval_1970-1990':0,\n",
        "       'year_built_interval_1991-2025':1, 'log_distance':1.79\n",
        "}\n",
        "\n",
        "test_df = pd.DataFrame([test_df])\n",
        "test_df = test_df.values.reshape(1, -1)"
      ]
    },
    {
      "cell_type": "code",
      "execution_count": null,
      "metadata": {},
      "outputs": [],
      "source": []
    },
    {
      "cell_type": "code",
      "execution_count": 98,
      "metadata": {},
      "outputs": [
        {
          "data": {
            "text/plain": [
              "array([11.89643331])"
            ]
          },
          "execution_count": 98,
          "metadata": {},
          "output_type": "execute_result"
        }
      ],
      "source": [
        "wls_model.predict(test_df)"
      ]
    },
    {
      "cell_type": "code",
      "execution_count": 96,
      "metadata": {},
      "outputs": [
        {
          "data": {
            "text/plain": [
              "np.float64(1.791759469228055)"
            ]
          },
          "execution_count": 96,
          "metadata": {},
          "output_type": "execute_result"
        }
      ],
      "source": [
        "np.log(6)"
      ]
    },
    {
      "cell_type": "code",
      "execution_count": 99,
      "metadata": {},
      "outputs": [
        {
          "data": {
            "text/plain": [
              "np.float64(146678.73530331807)"
            ]
          },
          "execution_count": 99,
          "metadata": {},
          "output_type": "execute_result"
        }
      ],
      "source": [
        "np.exp(11.896)"
      ]
    },
    {
      "cell_type": "code",
      "execution_count": 101,
      "metadata": {},
      "outputs": [
        {
          "data": {
            "text/plain": [
              "0    13.060488\n",
              "1    12.506177\n",
              "2    10.308953\n",
              "3    11.225243\n",
              "4    10.275051\n",
              "Name: price, dtype: float64"
            ]
          },
          "execution_count": 101,
          "metadata": {},
          "output_type": "execute_result"
        }
      ],
      "source": [
        "y.head()"
      ]
    },
    {
      "cell_type": "code",
      "execution_count": 178,
      "metadata": {},
      "outputs": [
        {
          "name": "stdout",
          "output_type": "stream",
          "text": [
            "Доверительный интервал для предсказания: 115007.06 <= y_hat <= 187235\n"
          ]
        }
      ],
      "source": [
        "predictions = wls_model.get_prediction(test_df)\n",
        "pred_summary_frame = predictions.summary_frame(alpha=0.05)\n",
        "\n",
        "lower_b = np.exp(pred_summary_frame[pred_summary_frame.columns[2]])\n",
        "upper_b = np.exp(pred_summary_frame[pred_summary_frame.columns[3]])\n",
        "print(f'Доверительный интервал для предсказания: {lower_b[0]:.2f} <= y_hat <= {upper_b[0]:.0f}')"
      ]
    }
  ],
  "metadata": {
    "colab": {
      "provenance": []
    },
    "kernelspec": {
      "display_name": "Python 3",
      "name": "python3"
    },
    "language_info": {
      "codemirror_mode": {
        "name": "ipython",
        "version": 3
      },
      "file_extension": ".py",
      "mimetype": "text/x-python",
      "name": "python",
      "nbconvert_exporter": "python",
      "pygments_lexer": "ipython3",
      "version": "3.12.0"
    }
  },
  "nbformat": 4,
  "nbformat_minor": 0
}
