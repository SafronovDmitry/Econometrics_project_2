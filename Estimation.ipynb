{
  "nbformat": 4,
  "nbformat_minor": 0,
  "metadata": {
    "colab": {
      "provenance": []
    },
    "kernelspec": {
      "name": "python3",
      "display_name": "Python 3"
    },
    "language_info": {
      "name": "python"
    }
  },
  "cells": [
    {
      "cell_type": "code",
      "execution_count": 1,
      "metadata": {
        "id": "vvDID9E3b7Il"
      },
      "outputs": [],
      "source": [
        "import pandas as pd\n",
        "import numpy as np\n",
        "from statsmodels.stats.outliers_influence import variance_inflation_factor\n",
        "from statsmodels.tools.tools import add_constant\n",
        "import statsmodels.api as sm\n",
        "from sklearn.linear_model import LinearRegression\n",
        "from statsmodels.formula.api import ols\n",
        "import seaborn as sns\n",
        "import matplotlib.pyplot as plt\n",
        "from sklearn.metrics import r2_score"
      ]
    },
    {
      "cell_type": "code",
      "source": [
        "df = pd.read_csv('FINAL_data.csv')"
      ],
      "metadata": {
        "id": "uvvM6jOrb-eY"
      },
      "execution_count": 32,
      "outputs": []
    },
    {
      "cell_type": "code",
      "source": [
        "df = df.drop(columns=['rooms_студия'])\n",
        "df = df.drop(columns=['rent_jkh_включена (без счётчиков)'])\n",
        "df = df.drop(columns=['rent_prepayment_1 месяц'])\n",
        "df = df.drop(columns=['rent_term_несколько месяцев'])\n",
        "df = df.drop(columns=['rent_living_conditions_ни с детьми, ни с животными'])\n",
        "df = df.drop(columns=['year_built_interval_не попал'])"
      ],
      "metadata": {
        "id": "pbvFr9-YcmYw"
      },
      "execution_count": 33,
      "outputs": []
    },
    {
      "cell_type": "code",
      "source": [
        "y = np.log(df['price'])\n",
        "X = df.drop(\"price\", axis=1)"
      ],
      "metadata": {
        "id": "9wOooqglcoMI"
      },
      "execution_count": 34,
      "outputs": []
    },
    {
      "cell_type": "code",
      "source": [
        "X_with_const = add_constant(X)\n",
        "\n",
        "ols_model = sm.OLS(y, X_with_const).fit()\n",
        "\n",
        "weights = 1 / (ols_model.resid ** 2 + 1e-6)\n",
        "\n",
        "wls_model = sm.WLS(y, X_with_const, weights=weights).fit()"
      ],
      "metadata": {
        "id": "ySH21atvczq5"
      },
      "execution_count": 35,
      "outputs": []
    },
    {
      "cell_type": "code",
      "source": [
        "print(wls_model.summary())"
      ],
      "metadata": {
        "colab": {
          "base_uri": "https://localhost:8080/"
        },
        "id": "Q6CHVnpbc4FB",
        "outputId": "603d68b2-f797-453f-ca19-21e7c6d06853"
      },
      "execution_count": 36,
      "outputs": [
        {
          "output_type": "stream",
          "name": "stdout",
          "text": [
            "                            WLS Regression Results                            \n",
            "==============================================================================\n",
            "Dep. Variable:                  price   R-squared:                       0.986\n",
            "Model:                            WLS   Adj. R-squared:                  0.986\n",
            "Method:                 Least Squares   F-statistic:                     4180.\n",
            "Date:                Mon, 14 Apr 2025   Prob (F-statistic):               0.00\n",
            "Time:                        15:17:09   Log-Likelihood:                 1066.2\n",
            "No. Observations:                1326   AIC:                            -2086.\n",
            "Df Residuals:                    1303   BIC:                            -1967.\n",
            "Df Model:                          22                                         \n",
            "Covariance Type:            nonrobust                                         \n",
            "=====================================================================================================================\n",
            "                                                        coef    std err          t      P>|t|      [0.025      0.975]\n",
            "---------------------------------------------------------------------------------------------------------------------\n",
            "const                                                11.3212      0.006   2033.950      0.000      11.310      11.332\n",
            "metro_time                                           -0.0027      0.000    -13.744      0.000      -0.003      -0.002\n",
            "info_total_area                                       0.0119      0.000    103.448      0.000       0.012       0.012\n",
            "floor_ratio                                           0.0312      0.003     12.205      0.000       0.026       0.036\n",
            "firt_floor                                           -0.0715      0.002    -28.760      0.000      -0.076      -0.067\n",
            "last_floor                                           -0.0380      0.005     -7.782      0.000      -0.048      -0.028\n",
            "rooms_1                                              -0.0774      0.003    -30.627      0.000      -0.082      -0.072\n",
            "rooms_2                                              -0.0209      0.003     -6.200      0.000      -0.028      -0.014\n",
            "rooms_3                                               0.0680      0.008      9.048      0.000       0.053       0.083\n",
            "rooms_4                                               0.2550      0.020     12.546      0.000       0.215       0.295\n",
            "rent_jkh_включена (счётчики включены)                 0.0011      0.002      0.631      0.528      -0.002       0.005\n",
            "rent_prepayment_2 месяца                              0.0208      0.004      5.488      0.000       0.013       0.028\n",
            "rent_prepayment_3 месяца                              0.2790      0.124      2.248      0.025       0.036       0.522\n",
            "rent_term_от года                                     0.0864      0.002     37.509      0.000       0.082       0.091\n",
            "rent_living_conditions_можно с детьми                 0.0082      0.002      4.410      0.000       0.005       0.012\n",
            "rent_living_conditions_можно с детьми и животными    -0.0196      0.003     -6.679      0.000      -0.025      -0.014\n",
            "rent_living_conditions_можно с животными             -0.0026      0.005     -0.488      0.626      -0.013       0.008\n",
            "year_built_interval_1890-1917                         0.0155      0.067      0.231      0.817      -0.116       0.147\n",
            "year_built_interval_1917-1945                        -0.1561      0.041     -3.827      0.000      -0.236      -0.076\n",
            "year_built_interval_1945-1970                        -0.0854      0.003    -31.663      0.000      -0.091      -0.080\n",
            "year_built_interval_1970-1990                        -0.0415      0.003    -15.380      0.000      -0.047      -0.036\n",
            "year_built_interval_1991-2025                         0.0644      0.002     39.689      0.000       0.061       0.068\n",
            "log_distance                                         -0.3067      0.002   -142.003      0.000      -0.311      -0.302\n",
            "==============================================================================\n",
            "Omnibus:                     5028.581   Durbin-Watson:                   1.946\n",
            "Prob(Omnibus):                  0.000   Jarque-Bera (JB):              209.670\n",
            "Skew:                          -0.002   Prob(JB):                     2.96e-46\n",
            "Kurtosis:                       1.052   Cond. No.                     8.58e+03\n",
            "==============================================================================\n",
            "\n",
            "Notes:\n",
            "[1] Standard Errors assume that the covariance matrix of the errors is correctly specified.\n",
            "[2] The condition number is large, 8.58e+03. This might indicate that there are\n",
            "strong multicollinearity or other numerical problems.\n"
          ]
        }
      ]
    },
    {
      "cell_type": "code",
      "source": [
        "X_with_const = add_constant(X)\n",
        "\n",
        "ols_model = sm.OLS(y, X_with_const).fit()\n",
        "\n",
        "test_vars = ['year_built_interval_1890-1917', 'rent_living_conditions_можно с животными', 'rent_jkh_включена (счётчики включены)']\n",
        "test_indices = [X_with_const.columns.get_loc(var) for var in test_vars]\n",
        "\n",
        "f_test_matrix = [1 if i in test_indices else 0 for i in range(len(ols_model.params))]\n",
        "\n",
        "f_test = ols_model.f_test(f_test_matrix)\n",
        "\n",
        "print(\"F-test for group significance:\")\n",
        "print(f_test)"
      ],
      "metadata": {
        "colab": {
          "base_uri": "https://localhost:8080/"
        },
        "id": "-Lb0qG7X8StA",
        "outputId": "e2bbd635-74cd-440e-b5ff-9a8a9e8c7fb1"
      },
      "execution_count": 37,
      "outputs": [
        {
          "output_type": "stream",
          "name": "stdout",
          "text": [
            "F-test for group significance:\n",
            "<F test: F=0.004700273554555828, p=0.9453515395286904, df_denom=1.3e+03, df_num=1>\n"
          ]
        }
      ]
    },
    {
      "cell_type": "code",
      "source": [
        "df = df.drop(columns=['year_built_interval_1890-1917'])\n",
        "df = df.drop(columns=['rent_living_conditions_можно с животными'])\n",
        "df = df.drop(columns=['rent_jkh_включена (счётчики включены)'])\n",
        "df = df.drop(columns=['rent_term_несколько месяцев'])\n",
        "df = df.drop(columns=['rent_living_conditions_ни с детьми, ни с животными'])\n",
        "df = df.drop(columns=['year_built_interval_не попал'])"
      ],
      "metadata": {
        "id": "SRTozgmi8w-o"
      },
      "execution_count": null,
      "outputs": []
    },
    {
      "cell_type": "code",
      "source": [
        "(np.e**(0.0119)-1)*100"
      ],
      "metadata": {
        "colab": {
          "base_uri": "https://localhost:8080/"
        },
        "id": "xe4fABUmxUDw",
        "outputId": "20f00e0c-64bd-48e9-ea0e-dcb26fc602b2"
      },
      "execution_count": 52,
      "outputs": [
        {
          "output_type": "execute_result",
          "data": {
            "text/plain": [
              "1.1971086697383893"
            ]
          },
          "metadata": {},
          "execution_count": 52
        }
      ]
    }
  ]
}